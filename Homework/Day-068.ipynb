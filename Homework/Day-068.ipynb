{
 "cells": [
  {
   "cell_type": "code",
   "execution_count": 24,
   "metadata": {},
   "outputs": [],
   "source": [
    "from keras.models import Sequential\n",
    "from keras.layers import Dense,Activation,Flatten,Dropout\n",
    "from keras.datasets import cifar10\n",
    "from keras.layers import Conv2D,MaxPooling2D\n",
    "import matplotlib.pyplot as plt"
   ]
  },
  {
   "cell_type": "code",
   "execution_count": 25,
   "metadata": {},
   "outputs": [],
   "source": [
    "batch_size = 32\n",
    "num_classes = 10\n",
    "epochs = 10\n",
    "\n",
    "# The data, shuffled and split between train and test sets:\n",
    "(x_train, y_train), (x_test, y_test) = cifar10.load_data()"
   ]
  },
  {
   "cell_type": "code",
   "execution_count": 10,
   "metadata": {},
   "outputs": [],
   "source": [
    " import keras\n",
    "    #Convert class vectors to binary class matrices.\n",
    "y_train = keras.utils.to_categorical(y_train, num_classes)\n",
    "y_test = keras.utils.to_categorical(y_test, num_classes)\n",
    "\n",
    "x_train = x_train.astype('float32') / 255.0\n",
    "x_test = x_test.astype('float32') / 255.0"
   ]
  },
  {
   "cell_type": "code",
   "execution_count": 26,
   "metadata": {},
   "outputs": [
    {
     "name": "stdout",
     "output_type": "stream",
     "text": [
      "_________________________________________________________________\n",
      "Layer (type)                 Output Shape              Param #   \n",
      "=================================================================\n",
      "conv2d_17 (Conv2D)           (None, 32, 32, 64)        4864      \n",
      "_________________________________________________________________\n",
      "activation_19 (Activation)   (None, 32, 32, 64)        0         \n",
      "_________________________________________________________________\n",
      "conv2d_18 (Conv2D)           (None, 28, 28, 64)        102464    \n",
      "_________________________________________________________________\n",
      "activation_20 (Activation)   (None, 28, 28, 64)        0         \n",
      "_________________________________________________________________\n",
      "conv2d_19 (Conv2D)           (None, 24, 24, 128)       204928    \n",
      "_________________________________________________________________\n",
      "activation_21 (Activation)   (None, 24, 24, 128)       0         \n",
      "_________________________________________________________________\n",
      "max_pooling2d_10 (MaxPooling (None, 12, 12, 128)       0         \n",
      "_________________________________________________________________\n",
      "flatten_8 (Flatten)          (None, 18432)             0         \n",
      "_________________________________________________________________\n",
      "dense_11 (Dense)             (None, 1024)              18875392  \n",
      "_________________________________________________________________\n",
      "activation_22 (Activation)   (None, 1024)              0         \n",
      "_________________________________________________________________\n",
      "dropout_1 (Dropout)          (None, 1024)              0         \n",
      "_________________________________________________________________\n",
      "dense_12 (Dense)             (None, 10)                10250     \n",
      "_________________________________________________________________\n",
      "activation_23 (Activation)   (None, 10)                0         \n",
      "=================================================================\n",
      "Total params: 19,197,898\n",
      "Trainable params: 19,197,898\n",
      "Non-trainable params: 0\n",
      "_________________________________________________________________\n",
      "None\n"
     ]
    }
   ],
   "source": [
    "# build our CNN model\n",
    "# 第一层为二维卷积层\n",
    "# 32 为filters卷积核的数目，也为输出的维度\n",
    "# kernel_size 卷积核的大小，5X5\n",
    "# 激活函数选为relu \n",
    "model=Sequential()\n",
    "model.add(Conv2D(filters=64,kernel_size=(5,5),\n",
    "                input_shape=(32,32,3),\n",
    "                activation='relu',\n",
    "                padding='same'))\n",
    "model.add(Activation('relu'))\n",
    "model.add(Conv2D(64, (5, 5)))\n",
    "model.add(Activation('relu'))\n",
    "model.add(Conv2D(128, (5, 5)))\n",
    "model.add(Activation('relu'))\n",
    "model.add(MaxPooling2D(pool_size=(2, 2)))\n",
    "\n",
    "model.add(Flatten())\n",
    "model.add(Dense(1024))\n",
    "model.add(Activation('relu'))\n",
    "model.add(Dropout(0.25))\n",
    "model.add(Dense(num_classes))\n",
    "model.add(Activation('softmax'))\n",
    "\n",
    "print(model.summary())"
   ]
  },
  {
   "cell_type": "code",
   "execution_count": 20,
   "metadata": {},
   "outputs": [
    {
     "name": "stdout",
     "output_type": "stream",
     "text": [
      "Train on 40000 samples, validate on 10000 samples\n",
      "Epoch 1/10\n",
      "40000/40000 [==============================] - 116s 3ms/step - loss: 1.5695 - acc: 0.4408 - val_loss: 1.2663 - val_acc: 0.5575\n",
      "Epoch 2/10\n",
      "40000/40000 [==============================] - 109s 3ms/step - loss: 1.1078 - acc: 0.6079 - val_loss: 1.0907 - val_acc: 0.6202\n",
      "Epoch 3/10\n",
      "40000/40000 [==============================] - 110s 3ms/step - loss: 0.9206 - acc: 0.6757 - val_loss: 1.0095 - val_acc: 0.6476\n",
      "Epoch 4/10\n",
      "40000/40000 [==============================] - 109s 3ms/step - loss: 0.7584 - acc: 0.7320 - val_loss: 1.0153 - val_acc: 0.6506\n",
      "Epoch 5/10\n",
      "40000/40000 [==============================] - 123s 3ms/step - loss: 0.6303 - acc: 0.7788 - val_loss: 1.0352 - val_acc: 0.6609\n",
      "Epoch 6/10\n",
      "40000/40000 [==============================] - 107s 3ms/step - loss: 0.4739 - acc: 0.8348 - val_loss: 1.0749 - val_acc: 0.6721\n",
      "Epoch 7/10\n",
      "40000/40000 [==============================] - 105s 3ms/step - loss: 0.3393 - acc: 0.8840 - val_loss: 1.1993 - val_acc: 0.6678\n",
      "Epoch 8/10\n",
      "40000/40000 [==============================] - 109s 3ms/step - loss: 0.2323 - acc: 0.9209 - val_loss: 1.4287 - val_acc: 0.6553\n",
      "Epoch 9/10\n",
      "40000/40000 [==============================] - 104s 3ms/step - loss: 0.1608 - acc: 0.9472 - val_loss: 1.4934 - val_acc: 0.6427\n",
      "Epoch 10/10\n",
      "40000/40000 [==============================] - 111s 3ms/step - loss: 0.1190 - acc: 0.9610 - val_loss: 1.7009 - val_acc: 0.6548\n",
      "10000/10000 [==============================] - 8s 780us/step\n",
      "Test accuracy: 0.655\n"
     ]
    }
   ],
   "source": [
    "# initiate Adam optimizer\n",
    "opt = keras.optimizers.Adam()\n",
    "\n",
    "\n",
    "# Let's train the model using Adam\n",
    "model.compile(loss='categorical_crossentropy',optimizer=opt,metrics=['accuracy'])\n",
    "\n",
    "model_history = model.fit(x_train, y_train, validation_split=0.2, epochs=10, batch_size=128, verbose=1)  \n",
    "\n",
    "# Score trained model.\n",
    "scores = model.evaluate(x_test, y_test, verbose=1)\n",
    "print('Test accuracy:', scores[1])"
   ]
  },
  {
   "cell_type": "code",
   "execution_count": null,
   "metadata": {},
   "outputs": [],
   "source": []
  }
 ],
 "metadata": {
  "kernelspec": {
   "display_name": "Python 3",
   "language": "python",
   "name": "python3"
  },
  "language_info": {
   "codemirror_mode": {
    "name": "ipython",
    "version": 3
   },
   "file_extension": ".py",
   "mimetype": "text/x-python",
   "name": "python",
   "nbconvert_exporter": "python",
   "pygments_lexer": "ipython3",
   "version": "3.6.8"
  }
 },
 "nbformat": 4,
 "nbformat_minor": 2
}
