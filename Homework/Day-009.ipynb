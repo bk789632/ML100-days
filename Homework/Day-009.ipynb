{
 "cells": [
  {
   "cell_type": "code",
   "execution_count": 1,
   "metadata": {},
   "outputs": [],
   "source": [
    "import os\n",
    "import numpy as np\n",
    "import pandas as pd\n",
    "import matplotlib.pyplot as plt\n",
    "%matplotlib inline"
   ]
  },
  {
   "cell_type": "code",
   "execution_count": 2,
   "metadata": {},
   "outputs": [],
   "source": [
    "app_train = pd.read_csv('application_train.csv')\n",
    "app_test = pd.read_csv('application_test.csv')\n",
    "\n",
    "from sklearn.preprocessing import LabelEncoder\n",
    "\n",
    "# Create a label encoder object\n",
    "le = LabelEncoder()\n",
    "le_count = 0\n",
    "\n",
    "# Iterate through the columns\n",
    "for col in app_train:\n",
    "    if app_train[col].dtype == 'object':\n",
    "        # If 2 or fewer unique categories\n",
    "        if len(list(app_train[col].unique())) <= 2:\n",
    "            # Train on the training data\n",
    "            le.fit(app_train[col])\n",
    "            # Transform both training and testing data\n",
    "            app_train[col] = le.transform(app_train[col])\n",
    "            app_test[col] = le.transform(app_test[col])\n",
    "            \n",
    "            # Keep track of how many columns were label encoded\n",
    "            le_count += 1\n",
    "            \n",
    "app_train = pd.get_dummies(app_train)\n",
    "app_test = pd.get_dummies(app_test)\n",
    "\n",
    "# Create an anomalous flag column\n",
    "app_train['DAYS_EMPLOYED_ANOM'] = app_train[\"DAYS_EMPLOYED\"] == 365243\n",
    "app_train['DAYS_EMPLOYED'].replace({365243: np.nan}, inplace = True)\n",
    "# also apply to testing dataset\n",
    "app_test['DAYS_EMPLOYED_ANOM'] = app_test[\"DAYS_EMPLOYED\"] == 365243\n",
    "app_test[\"DAYS_EMPLOYED\"].replace({365243: np.nan}, inplace = True)\n",
    "\n",
    "# absolute the value of DAYS_BIRTH\n",
    "app_train['DAYS_BIRTH'] = abs(app_train['DAYS_BIRTH'])\n",
    "app_test['DAYS_BIRTH'] = abs(app_test['DAYS_BIRTH'])\n"
   ]
  },
  {
   "cell_type": "code",
   "execution_count": 4,
   "metadata": {},
   "outputs": [],
   "source": [
    "a=app_train.corr()['TARGET']>0"
   ]
  },
  {
   "cell_type": "code",
   "execution_count": 20,
   "metadata": {},
   "outputs": [
    {
     "data": {
      "text/plain": [
       "SK_ID_CURR                                           False\n",
       "NAME_FAMILY_STATUS_Married                           False\n",
       "NAME_FAMILY_STATUS_Unknown                           False\n",
       "NAME_FAMILY_STATUS_Widow                             False\n",
       "NAME_HOUSING_TYPE_Co-op apartment                    False\n",
       "NAME_HOUSING_TYPE_House / apartment                  False\n",
       "NAME_HOUSING_TYPE_Office apartment                   False\n",
       "OCCUPATION_TYPE_Accountants                          False\n",
       "OCCUPATION_TYPE_Core staff                           False\n",
       "NAME_EDUCATION_TYPE_Higher education                 False\n",
       "OCCUPATION_TYPE_HR staff                             False\n",
       "OCCUPATION_TYPE_IT staff                             False\n",
       "OCCUPATION_TYPE_Managers                             False\n",
       "OCCUPATION_TYPE_Medicine staff                       False\n",
       "OCCUPATION_TYPE_Private service staff                False\n",
       "OCCUPATION_TYPE_Realty agents                        False\n",
       "OCCUPATION_TYPE_Secretaries                          False\n",
       "WEEKDAY_APPR_PROCESS_START_MONDAY                    False\n",
       "WEEKDAY_APPR_PROCESS_START_SATURDAY                  False\n",
       "OCCUPATION_TYPE_High skill tech staff                False\n",
       "NAME_EDUCATION_TYPE_Academic degree                  False\n",
       "NAME_INCOME_TYPE_Student                             False\n",
       "NAME_INCOME_TYPE_State servant                       False\n",
       "FLAG_DOCUMENT_11                                     False\n",
       "FLAG_DOCUMENT_12                                     False\n",
       "FLAG_DOCUMENT_13                                     False\n",
       "FLAG_DOCUMENT_14                                     False\n",
       "FLAG_DOCUMENT_15                                     False\n",
       "FLAG_DOCUMENT_16                                     False\n",
       "FLAG_DOCUMENT_17                                     False\n",
       "                                                     ...  \n",
       "FLAG_DOCUMENT_3                                       True\n",
       "NAME_EDUCATION_TYPE_Secondary / secondary special     True\n",
       "ORGANIZATION_TYPE_Industry: type 3                    True\n",
       "NAME_FAMILY_STATUS_Civil marriage                     True\n",
       "NAME_FAMILY_STATUS_Single / not married               True\n",
       "ORGANIZATION_TYPE_Industry: type 11                   True\n",
       "ORGANIZATION_TYPE_Industry: type 1                    True\n",
       "ORGANIZATION_TYPE_Construction                        True\n",
       "ORGANIZATION_TYPE_Cleaning                            True\n",
       "ORGANIZATION_TYPE_Business Entity Type 3              True\n",
       "ORGANIZATION_TYPE_Business Entity Type 2              True\n",
       "ORGANIZATION_TYPE_Business Entity Type 1              True\n",
       "ORGANIZATION_TYPE_Agriculture                         True\n",
       "ORGANIZATION_TYPE_Advertising                         True\n",
       "WEEKDAY_APPR_PROCESS_START_WEDNESDAY                  True\n",
       "WEEKDAY_APPR_PROCESS_START_THURSDAY                   True\n",
       "WEEKDAY_APPR_PROCESS_START_FRIDAY                     True\n",
       "OCCUPATION_TYPE_Waiters/barmen staff                  True\n",
       "OCCUPATION_TYPE_Security staff                        True\n",
       "OCCUPATION_TYPE_Sales staff                           True\n",
       "OCCUPATION_TYPE_Low-skill Laborers                    True\n",
       "OCCUPATION_TYPE_Laborers                              True\n",
       "OCCUPATION_TYPE_Drivers                               True\n",
       "OCCUPATION_TYPE_Cooking staff                         True\n",
       "OCCUPATION_TYPE_Cleaning staff                        True\n",
       "NAME_HOUSING_TYPE_With parents                        True\n",
       "NAME_HOUSING_TYPE_Rented apartment                    True\n",
       "NAME_HOUSING_TYPE_Municipal apartment                 True\n",
       "NAME_FAMILY_STATUS_Separated                          True\n",
       "NAME_INCOME_TYPE_Maternity leave                      True\n",
       "Name: TARGET, Length: 244, dtype: bool"
      ]
     },
     "execution_count": 20,
     "metadata": {},
     "output_type": "execute_result"
    }
   ],
   "source": [
    "a.sort_values()"
   ]
  },
  {
   "cell_type": "code",
   "execution_count": 21,
   "metadata": {},
   "outputs": [],
   "source": [
    "corr_m = app_train.corr()['TARGET']"
   ]
  },
  {
   "cell_type": "code",
   "execution_count": 25,
   "metadata": {},
   "outputs": [
    {
     "name": "stdout",
     "output_type": "stream",
     "text": [
      "EXT_SOURCE_3                           -0.178919\n",
      "EXT_SOURCE_2                           -0.160472\n",
      "EXT_SOURCE_1                           -0.155317\n",
      "DAYS_BIRTH                             -0.078239\n",
      "NAME_EDUCATION_TYPE_Higher education   -0.056593\n",
      "CODE_GENDER_F                          -0.054704\n",
      "NAME_INCOME_TYPE_Pensioner             -0.046209\n",
      "ORGANIZATION_TYPE_XNA                  -0.045987\n",
      "DAYS_EMPLOYED_ANOM                     -0.045987\n",
      "FLOORSMAX_AVG                          -0.044003\n",
      "FLOORSMAX_MEDI                         -0.043768\n",
      "FLOORSMAX_MODE                         -0.043226\n",
      "EMERGENCYSTATE_MODE_No                 -0.042201\n",
      "HOUSETYPE_MODE_block of flats          -0.040594\n",
      "AMT_GOODS_PRICE                        -0.039645\n",
      "Name: TARGET, dtype: float64\n",
      "DAYS_REGISTRATION                                    0.041975\n",
      "OCCUPATION_TYPE_Laborers                             0.043019\n",
      "FLAG_DOCUMENT_3                                      0.044346\n",
      "REG_CITY_NOT_LIVE_CITY                               0.044395\n",
      "FLAG_EMP_PHONE                                       0.045982\n",
      "NAME_EDUCATION_TYPE_Secondary / secondary special    0.049824\n",
      "REG_CITY_NOT_WORK_CITY                               0.050994\n",
      "DAYS_ID_PUBLISH                                      0.051457\n",
      "CODE_GENDER_M                                        0.054713\n",
      "DAYS_LAST_PHONE_CHANGE                               0.055218\n",
      "NAME_INCOME_TYPE_Working                             0.057481\n",
      "REGION_RATING_CLIENT                                 0.058899\n",
      "REGION_RATING_CLIENT_W_CITY                          0.060893\n",
      "DAYS_EMPLOYED                                        0.074958\n",
      "TARGET                                               1.000000\n",
      "Name: TARGET, dtype: float64\n"
     ]
    }
   ],
   "source": [
    "sorted_corr = corr_m.sort_values()\n",
    "print(sorted_corr.head(15))#前15\n",
    "print(sorted_corr.tail(15))#後15"
   ]
  },
  {
   "cell_type": "code",
   "execution_count": 30,
   "metadata": {},
   "outputs": [
    {
     "data": {
      "text/plain": [
       "[<matplotlib.lines.Line2D at 0x14040d898>]"
      ]
     },
     "execution_count": 30,
     "metadata": {},
     "output_type": "execute_result"
    },
    {
     "data": {
      "image/png": "[encoded data removed]",
      "text/plain": [
       "<Figure size 432x288 with 1 Axes>"
      ]
     },
     "metadata": {
      "needs_background": "light"
     },
     "output_type": "display_data"
    }
   ],
   "source": [
    "plt.plot(app_train['EXT_SOURCE_3'] , app_train['TARGET'], '.')"
   ]
  },
  {
   "cell_type": "code",
   "execution_count": 34,
   "metadata": {},
   "outputs": [
    {
     "data": {
      "text/plain": [
       "<matplotlib.axes._subplots.AxesSubplot at 0x11d3e0198>"
      ]
     },
     "execution_count": 34,
     "metadata": {},
     "output_type": "execute_result"
    },
    {
     "data": {
      "image/png": "[encoded data removed]",
      "text/plain": [
       "<Figure size 432x288 with 1 Axes>"
      ]
     },
     "metadata": {
      "needs_background": "light"
     },
     "output_type": "display_data"
    }
   ],
   "source": [
    "app_train.boxplot('EXT_SOURCE_3',by='TARGET')"
   ]
  },
  {
   "cell_type": "code",
   "execution_count": null,
   "metadata": {},
   "outputs": [],
   "source": []
  }
 ],
 "metadata": {
  "kernelspec": {
   "display_name": "Python 3",
   "language": "python",
   "name": "python3"
  },
  "language_info": {
   "codemirror_mode": {
    "name": "ipython",
    "version": 3
   },
   "file_extension": ".py",
   "mimetype": "text/x-python",
   "name": "python",
   "nbconvert_exporter": "python",
   "pygments_lexer": "ipython3",
   "version": "3.6.7"
  }
 },
 "nbformat": 4,
 "nbformat_minor": 2
}
