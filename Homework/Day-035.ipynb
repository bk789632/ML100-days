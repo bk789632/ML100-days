{
 "cells": [
  {
   "cell_type": "markdown",
   "metadata": {},
   "source": [
    "請搜尋目標為多標籤問題 (Multi-label) 的機器學習案例，了解其資料來源、目標以及評估指標為何？"
   ]
  },
  {
   "cell_type": "markdown",
   "metadata": {},
   "source": [
    "從網上抓取數據\n",
    "清潔和預處理\n",
    "想像\n",
    "分類\n",
    "\n",
    "\n"
   ]
  }
 ],
 "metadata": {
  "kernelspec": {
   "display_name": "Python 3",
   "language": "python",
   "name": "python3"
  },
  "language_info": {
   "codemirror_mode": {
    "name": "ipython",
    "version": 3
   },
   "file_extension": ".py",
   "mimetype": "text/x-python",
   "name": "python",
   "nbconvert_exporter": "python",
   "pygments_lexer": "ipython3",
   "version": "3.6.7"
  }
 },
 "nbformat": 4,
 "nbformat_minor": 2
}
