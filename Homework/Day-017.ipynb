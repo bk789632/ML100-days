{
 "cells": [
  {
   "cell_type": "markdown",
   "metadata": {},
   "source": [
    "作業 : (Kaggle)鐵達尼生存預測精簡版\n",
    "https://www.kaggle.com/c/titanic\n",
    "作業1\n",
    "下列A~E五個程式區塊中，哪一塊是特徵工程? C\n",
    "作業2\n",
    "對照程式區塊 B 與 C 的結果，請問那些欄位屬於\"類別型欄位\"? (回答欄位英文名稱即可) Name,Ticket,Fare,Cabin,Embarked\n",
    "作業3\n",
    "續上題，請問哪個欄位是\"目標值\"? Survived"
   ]
  },
  {
   "cell_type": "code",
   "execution_count": null,
   "metadata": {},
   "outputs": [],
   "source": []
  }
 ],
 "metadata": {
  "kernelspec": {
   "display_name": "Python 3",
   "language": "python",
   "name": "python3"
  },
  "language_info": {
   "codemirror_mode": {
    "name": "ipython",
    "version": 3
   },
   "file_extension": ".py",
   "mimetype": "text/x-python",
   "name": "python",
   "nbconvert_exporter": "python",
   "pygments_lexer": "ipython3",
   "version": "3.6.7"
  }
 },
 "nbformat": 4,
 "nbformat_minor": 2
}
